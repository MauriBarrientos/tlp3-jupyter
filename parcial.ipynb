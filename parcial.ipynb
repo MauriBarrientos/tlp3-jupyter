{
 "cells": [
  {
   "cell_type": "markdown",
   "metadata": {},
   "source": [
    "# Punto 2\n",
    "## Función eliminadora de elementos repetidos"
   ]
  },
  {
   "cell_type": "code",
   "execution_count": 1,
   "metadata": {},
   "outputs": [
    {
     "name": "stdout",
     "output_type": "stream",
     "text": [
      "[1, 2, 3, 4, 5, 6, 7]\n"
     ]
    }
   ],
   "source": [
    "#Función para eliminar elementos duplicados\n",
    "def eliminar_duplicados(lista):\n",
    "    lista_nueva= []\n",
    "    for elemento in lista: #Iteración que recorrera cada elemento de la lista\n",
    "        if elemento not in lista_nueva:#Si el elemento no esta en la lista se agregará a la lista nueva\n",
    "            lista_nueva.append(elemento) \n",
    "    return lista_nueva\n",
    "\n",
    "\n",
    "print(eliminar_duplicados([1,2,3,4,4,5,6,6,7]))"
   ]
  },
  {
   "cell_type": "markdown",
   "metadata": {},
   "source": [
    "# Punto 3\n",
    "## Ejercicio con Pandas"
   ]
  },
  {
   "cell_type": "markdown",
   "metadata": {},
   "source": [
    "### Importamos la librería de Pandas"
   ]
  },
  {
   "cell_type": "code",
   "execution_count": null,
   "metadata": {},
   "outputs": [],
   "source": [
    "import pandas as pd"
   ]
  },
  {
   "cell_type": "markdown",
   "metadata": {},
   "source": [
    "### Definimos el dataframe que utilizaremos"
   ]
  },
  {
   "cell_type": "code",
   "execution_count": null,
   "metadata": {},
   "outputs": [],
   "source": [
    "calificaciones = [ {\"nombre\": \"Juan\", \"matematicas\": 85, \"ciencias\": 90,\n",
    "\"historia\": 75}, {\"nombre\": \"María\", \"matematicas\": 70, \"ciencias\": 80,\n",
    "\"historia\": 85}, {\"nombre\": \"Pedro\", \"matematicas\": 95, \"ciencias\": 75,\n",
    "\"historia\": 90}, {\"nombre\": \"Ana\", \"matematicas\": 80, \"ciencias\": 85, \"historia\":\n",
    "80}, {\"nombre\": \"Luis\", \"matematicas\": 75, \"ciencias\": 70,\n",
    "\"historia\": 95}, {\"nombre\": \"Sofía\", \"matematicas\": 90, \"ciencias\": 85,\n",
    "\"historia\": 75}, {\"nombre\": \"Carlos\", \"matematicas\": 85, \"ciencias\": 90,\n",
    "\"historia\": 80}, {\"nombre\": \"Elena\", \"matematicas\": 70, \"ciencias\": 75,\n",
    "\"historia\": 85}, {\"nombre\": \"Javier\", \"matematicas\": 80, \"ciencias\": 85,\n",
    "\"historia\": 90}, {\"nombre\": \"Laura\", \"matematicas\": 75, \"ciencias\": 70,\n",
    "\"historia\": 95}, {\"nombre\": \"Diego\", \"matematicas\": 90, \"ciencias\": 85,\n",
    "\"historia\": 75}, {\"nombre\": \"Paula\", \"matematicas\": 85, \"ciencias\": 90,\n",
    "\"historia\": 80}, {\"nombre\": \"Carmen\", \"matematicas\": 70, \"ciencias\": 75,\n",
    "\"historia\": 85} ]"
   ]
  },
  {
   "cell_type": "markdown",
   "metadata": {},
   "source": []
  }
 ],
 "metadata": {
  "kernelspec": {
   "display_name": "venv",
   "language": "python",
   "name": "python3"
  },
  "language_info": {
   "codemirror_mode": {
    "name": "ipython",
    "version": 3
   },
   "file_extension": ".py",
   "mimetype": "text/x-python",
   "name": "python",
   "nbconvert_exporter": "python",
   "pygments_lexer": "ipython3",
   "version": "3.12.3"
  }
 },
 "nbformat": 4,
 "nbformat_minor": 2
}
